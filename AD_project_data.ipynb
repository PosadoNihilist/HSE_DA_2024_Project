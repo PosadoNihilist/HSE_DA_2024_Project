{
 "cells": [
  {
   "cell_type": "code",
   "execution_count": null,
   "metadata": {},
   "outputs": [],
   "source": [
    "!pip install translate"
   ]
  },
  {
   "cell_type": "code",
   "execution_count": 538,
   "metadata": {},
   "outputs": [],
   "source": [
    "from translate import Translator\n",
    "translator= Translator(from_lang = 'ru', to_lang=\"en\")"
   ]
  },
  {
   "cell_type": "code",
   "execution_count": 2,
   "metadata": {},
   "outputs": [],
   "source": [
    "import numpy as np\n",
    "import pandas as pd\n",
    "import json"
   ]
  },
  {
   "cell_type": "markdown",
   "metadata": {},
   "source": [
    "# Проект по анализу данных\n",
    "\n",
    "## Сбор данных\n",
    "\n",
    "### 1. Из датасета enriched_recipes"
   ]
  },
  {
   "cell_type": "code",
   "execution_count": 533,
   "metadata": {},
   "outputs": [],
   "source": [
    "with open('enriched_recipes.json') as f:\n",
    "    data = json.load(f)\n",
    "    df = pd.json_normalize(\n",
    "        data, 'parsed_ingredients',\n",
    "        meta=['total_time_minutes',\n",
    "              'url',\n",
    "              'title'\n",
    "             ],\n",
    "        record_prefix='ingredient_', errors='ignore')"
   ]
  },
  {
   "cell_type": "markdown",
   "metadata": {},
   "source": [
    "Чистим"
   ]
  },
  {
   "cell_type": "code",
   "execution_count": 534,
   "metadata": {},
   "outputs": [],
   "source": [
    "df.drop(\"ingredient_comment\", axis=1, inplace=True)\n",
    "df.drop(\"ingredient_input\", axis=1, inplace=True)\n",
    "df.drop(\"ingredient_other\", axis=1, inplace=True)\n",
    "df.drop(\"ingredient_range_end\", axis=1, inplace=True)\n",
    "df = df.loc[:, ['url', 'title', 'total_time_minutes', 'ingredient_name', 'ingredient_qty', 'ingredient_unit']]\n",
    "df['source'] = \"allrecipes\"\n",
    "df.replace(np.nan, '', inplace=True)"
   ]
  },
  {
   "cell_type": "markdown",
   "metadata": {},
   "source": [
    "Много уникальных ингредиентов. Это плохо. Попробуем упростить"
   ]
  },
  {
   "cell_type": "code",
   "execution_count": 535,
   "metadata": {},
   "outputs": [
    {
     "data": {
      "text/plain": [
       "38057"
      ]
     },
     "execution_count": 535,
     "metadata": {},
     "output_type": "execute_result"
    }
   ],
   "source": [
    "len(df['ingredient_name'].value_counts().index.tolist())"
   ]
  },
  {
   "cell_type": "code",
   "execution_count": 536,
   "metadata": {},
   "outputs": [],
   "source": [
    "simple_ingredients = ['garlic', 'sugar', 'onion' ,'butter', 'milk', 'mustard', 'egg', 'olive oil', 'breadcrumbs', 'cumin', 'oregano', 'parsley', \n",
    "                      'thyme', 'parmesan', 'soy sauce', 'chicken broth', 'white wine', 'flour', 'cornstarch', 'ginger', 'yoghurt', 'cilantro', \n",
    "                      'basil', 'tumeric', 'salt', 'cinnamon', 'vanilla', 'chicken breast', 'rice', 'cauliflower', 'carrot', 'cabbage', 'cheese', 'chicken thigh', \n",
    "                      'avocado', 'curry', 'tomato', 'zucchini', 'paprika', 'coriander', 'vinegar', 'mince beef', 'black pepper', 'red wine', 'rosemary', 'kidney beans', \n",
    "                      'masala', 'pumpkin', 'lettuce']"
   ]
  },
  {
   "cell_type": "markdown",
   "metadata": {},
   "source": [
    "Если в названии ингредиента есть одно из этих слов, то название ингредиента просто заменяется на слово"
   ]
  },
  {
   "cell_type": "code",
   "execution_count": 537,
   "metadata": {},
   "outputs": [],
   "source": [
    "for simple in simple_ingredients:\n",
    "    df.loc[df['ingredient_name'].str.contains(simple), 'ingredient_name'] = simple"
   ]
  },
  {
   "cell_type": "markdown",
   "metadata": {},
   "source": [
    "Немного лучше"
   ]
  },
  {
   "cell_type": "code",
   "execution_count": 539,
   "metadata": {},
   "outputs": [
    {
     "data": {
      "text/plain": [
       "30534"
      ]
     },
     "execution_count": 539,
     "metadata": {},
     "output_type": "execute_result"
    }
   ],
   "source": [
    "len(df['ingredient_name'].value_counts().index.tolist())"
   ]
  },
  {
   "cell_type": "markdown",
   "metadata": {},
   "source": [
    "### 2. Русский датасет из задания 2"
   ]
  },
  {
   "cell_type": "code",
   "execution_count": 540,
   "metadata": {},
   "outputs": [],
   "source": [
    "russian_df = pd.read_csv('all_recipes.csv')"
   ]
  },
  {
   "cell_type": "markdown",
   "metadata": {},
   "source": [
    "Чистим"
   ]
  },
  {
   "cell_type": "code",
   "execution_count": 541,
   "metadata": {},
   "outputs": [],
   "source": [
    "russian_df.drop('Unnamed: 0', axis=1, inplace=True)\n",
    "russian_df.drop('calories', axis=1, inplace=True)\n",
    "russian_df.drop('description', axis=1, inplace=True)\n",
    "russian_df.drop('query', axis=1, inplace=True)\n",
    "russian_df.drop('macros', axis=1, inplace=True)\n",
    "russian_df['time'] = russian_df['time'].str.replace(\" ч\", '*60').str.replace(' мин','*1').str.replace(' д','*1440').str.replace(' ','+').apply(eval)\n",
    "russian_df['ingredients'] = [x.strip('[]').split(',') for x in russian_df['ingredients']]"
   ]
  },
  {
   "cell_type": "markdown",
   "metadata": {},
   "source": [
    "Тоже чистим"
   ]
  },
  {
   "cell_type": "code",
   "execution_count": 542,
   "metadata": {},
   "outputs": [],
   "source": [
    "russian_exploded = russian_df.explode('ingredients')\n",
    "russian_exploded['ingredients'] = russian_exploded['ingredients'].str.strip(\" ''\")\n",
    "russian_exploded[['ingredient_name', 'quantities']] = russian_exploded['ingredients'].str.split(pat=\" - \", expand=True)\n",
    "russian_exploded[['ingredient_qty', 'ingredient_unit']] = russian_exploded['quantities'].str.split(expand=True)\n",
    "russian_exploded.drop('ingredients', axis=1, inplace=True)\n",
    "russian_exploded.drop('quantities', axis=1, inplace=True)"
   ]
  },
  {
   "cell_type": "code",
   "execution_count": 543,
   "metadata": {},
   "outputs": [],
   "source": [
    "unique_ingredients = russian_exploded['ingredient_name'].unique()"
   ]
  },
  {
   "cell_type": "markdown",
   "metadata": {},
   "source": [
    "Делает dict с переводами всех уникальных ингридиентов. Качество перевода так-себе, работает долго (у меня крутится где-то минут 8)"
   ]
  },
  {
   "cell_type": "code",
   "execution_count": 544,
   "metadata": {},
   "outputs": [],
   "source": [
    "translation_dict = {}\n",
    "for russian in unique_ingredients:\n",
    "    try:\n",
    "        translation = translator.translate(russian)\n",
    "        translation_dict[russian] = translation\n",
    "    except:\n",
    "        pass"
   ]
  },
  {
   "cell_type": "markdown",
   "metadata": {},
   "source": [
    "Чистим dict с переводами (иногда перевод вообще неправильный)"
   ]
  },
  {
   "cell_type": "code",
   "execution_count": 545,
   "metadata": {},
   "outputs": [],
   "source": [
    "translation_dict['какао'] = 'cocoa'\n",
    "translation_dict['сахар'] = 'sugar'\n",
    "translation_dict['куриные яйца'] = 'eggs'\n",
    "translation_dict['сахарная пудра'] = 'powdered sugar'\n",
    "translation_dict['разрыхлитель'] = 'baking powder'\n",
    "translation_dict['горький шоколад'] = 'dark chocolate'\n",
    "translation_dict['яичные белки'] = 'egg whites'\n",
    "translation_dict['мята'] = 'mint'\n",
    "translation_dict['кофейный ликер'] = 'coffee liqueur'\n",
    "translation_dict['апельсины'] = 'oranges'\n",
    "translation_dict['сода'] = 'baking soda'\n",
    "translation_dict['куриное филе'] = 'chicken breast'\n",
    "translation_dict['ягоды'] = 'berries'\n",
    "translation_dict['копченая колбаса'] = 'smoked sausage'\n",
    "translation_dict['куриные грудки'] = 'chicken breast'\n",
    "translation_dict['поваренная соль'] = 'salt'\n",
    "translation_dict['черника'] = 'blueberry'\n",
    "translation_dict['колбаса'] = 'sausage'\n",
    "translation_dict['мак пищевой'] = 'poppy seeds'\n",
    "translation_dict['лимонная цедра'] = 'lemon peel'\n",
    "translation_dict['кукурузный крахмал'] = 'cornstartch'\n",
    "translation_dict['творожный сыр'] = 'cottage cheese'\n",
    "translation_dict['столовый уксус'] = 'vinegar'\n",
    "translation_dict['пищевой краситель'] = 'food coloring'\n",
    "translation_dict['сироп'] = 'syrup'\n",
    "translation_dict['апельсиновый ликер'] = 'orange liqueur'\n",
    "translation_dict['черемуха'] = 'bird cherry'\n",
    "translation_dict['стручок ванили'] = 'vanilla pod'\n",
    "translation_dict['вино красное'] = 'red wine'\n",
    "translation_dict['душистый перец'] = 'allspice'\n",
    "translation_dict['капуста белокочанная'] = 'cabbage'\n",
    "translation_dict['виски'] = 'whisky'\n",
    "translation_dict['печень говяжья'] = 'cow liver'\n",
    "translation_dict['перец чили'] = 'chili'\n",
    "translation_dict['томатная паста'] = 'tomato paste'\n",
    "translation_dict['мойва'] = 'capelin'\n",
    "translation_dict['настойка'] = 'tincture'\n",
    "translation_dict['хурма'] = 'persimmon'\n",
    "translation_dict['фейхоа'] = 'feijoa'"
   ]
  },
  {
   "cell_type": "markdown",
   "metadata": {},
   "source": [
    "dict с переводами единиц измерения"
   ]
  },
  {
   "cell_type": "code",
   "execution_count": 546,
   "metadata": {},
   "outputs": [],
   "source": [
    "unit_dict = {\n",
    "    'гр':'gram',\n",
    "    'стак.':'cup',\n",
    "    'стол.л.':'tablespoon',\n",
    "    'чайн.л.':'teaspoon',\n",
    "    'шт.':'units',\n",
    "    'вкусу':'to taste',\n",
    "    'л': 'liter',\n",
    "    'мл':'ml',\n",
    "    'пак.':'package',\n",
    "    'кг':'kilogram',\n",
    "    'банк.':'can',\n",
    "    'десерт.л.':'teaspoon',\n",
    "    'зубч.':'clove'\n",
    "}"
   ]
  },
  {
   "cell_type": "markdown",
   "metadata": {},
   "source": [
    "Переводим (иногда с первого раза не работает и надо несколько раз нажать. Не могу даже представить почему)"
   ]
  },
  {
   "cell_type": "code",
   "execution_count": 547,
   "metadata": {},
   "outputs": [],
   "source": [
    "russian_exploded[\"ingredient_name\"] = russian_exploded[\"ingredient_name\"].apply(\n",
    "    lambda name: translation_dict.get(name, name))\n",
    "russian_exploded[\"ingredient_unit\"] = russian_exploded[\"ingredient_unit\"].apply(\n",
    "    lambda name: unit_dict.get(name, name))\n",
    "russian_exploded[\"ingredient_name\"] = russian_exploded[\"ingredient_name\"].str.lower()"
   ]
  },
  {
   "cell_type": "markdown",
   "metadata": {},
   "source": [
    "Чистим"
   ]
  },
  {
   "cell_type": "code",
   "execution_count": 548,
   "metadata": {},
   "outputs": [],
   "source": [
    "russian_exploded['source'] = \"russian\"\n",
    "russian_exploded.rename(columns={'link': 'url', 'name': 'title', 'time':'total_time_minutes'}, inplace=True)\n",
    "russian_exploded = russian_exploded.loc[:, ['url', 'title', 'total_time_minutes', 'ingredient_name', 'ingredient_qty', 'ingredient_unit', 'source']]\n",
    "russian_exploded['ingredient_name'] = russian_exploded['ingredient_name'].str.replace('/[^a-zA-Z ]+/g', '', regex=True)"
   ]
  },
  {
   "cell_type": "markdown",
   "metadata": {},
   "source": [
    "Результат"
   ]
  },
  {
   "cell_type": "code",
   "execution_count": 549,
   "metadata": {},
   "outputs": [
    {
     "data": {
      "text/html": [
       "<div>\n",
       "<style scoped>\n",
       "    .dataframe tbody tr th:only-of-type {\n",
       "        vertical-align: middle;\n",
       "    }\n",
       "\n",
       "    .dataframe tbody tr th {\n",
       "        vertical-align: top;\n",
       "    }\n",
       "\n",
       "    .dataframe thead th {\n",
       "        text-align: right;\n",
       "    }\n",
       "</style>\n",
       "<table border=\"1\" class=\"dataframe\">\n",
       "  <thead>\n",
       "    <tr style=\"text-align: right;\">\n",
       "      <th></th>\n",
       "      <th>url</th>\n",
       "      <th>title</th>\n",
       "      <th>total_time_minutes</th>\n",
       "      <th>ingredient_name</th>\n",
       "      <th>ingredient_qty</th>\n",
       "      <th>ingredient_unit</th>\n",
       "      <th>source</th>\n",
       "    </tr>\n",
       "  </thead>\n",
       "  <tbody>\n",
       "    <tr>\n",
       "      <th>0</th>\n",
       "      <td>https://1000.menu/cooking/43048-domashnii-klas...</td>\n",
       "      <td>Домашний классический тирамису</td>\n",
       "      <td>200</td>\n",
       "      <td>savoyardi cookies</td>\n",
       "      <td>200</td>\n",
       "      <td>gram</td>\n",
       "      <td>russian</td>\n",
       "    </tr>\n",
       "    <tr>\n",
       "      <th>0</th>\n",
       "      <td>https://1000.menu/cooking/43048-domashnii-klas...</td>\n",
       "      <td>Домашний классический тирамису</td>\n",
       "      <td>200</td>\n",
       "      <td>coffee</td>\n",
       "      <td>1</td>\n",
       "      <td>cup</td>\n",
       "      <td>russian</td>\n",
       "    </tr>\n",
       "    <tr>\n",
       "      <th>0</th>\n",
       "      <td>https://1000.menu/cooking/43048-domashnii-klas...</td>\n",
       "      <td>Домашний классический тирамису</td>\n",
       "      <td>200</td>\n",
       "      <td>cocoa</td>\n",
       "      <td>70</td>\n",
       "      <td>gram</td>\n",
       "      <td>russian</td>\n",
       "    </tr>\n",
       "    <tr>\n",
       "      <th>0</th>\n",
       "      <td>https://1000.menu/cooking/43048-domashnii-klas...</td>\n",
       "      <td>Домашний классический тирамису</td>\n",
       "      <td>200</td>\n",
       "      <td>brandy</td>\n",
       "      <td>1</td>\n",
       "      <td>tablespoon</td>\n",
       "      <td>russian</td>\n",
       "    </tr>\n",
       "    <tr>\n",
       "      <th>0</th>\n",
       "      <td>https://1000.menu/cooking/43048-domashnii-klas...</td>\n",
       "      <td>Домашний классический тирамису</td>\n",
       "      <td>200</td>\n",
       "      <td>mascarpone</td>\n",
       "      <td>250</td>\n",
       "      <td>gram</td>\n",
       "      <td>russian</td>\n",
       "    </tr>\n",
       "    <tr>\n",
       "      <th>...</th>\n",
       "      <td>...</td>\n",
       "      <td>...</td>\n",
       "      <td>...</td>\n",
       "      <td>...</td>\n",
       "      <td>...</td>\n",
       "      <td>...</td>\n",
       "      <td>...</td>\n",
       "    </tr>\n",
       "    <tr>\n",
       "      <th>774</th>\n",
       "      <td>https://1000.menu/cooking/10221-varene-iz-ship...</td>\n",
       "      <td>Варенье из шиповника</td>\n",
       "      <td>180</td>\n",
       "      <td>sugar</td>\n",
       "      <td>6</td>\n",
       "      <td>cup</td>\n",
       "      <td>russian</td>\n",
       "    </tr>\n",
       "    <tr>\n",
       "      <th>774</th>\n",
       "      <td>https://1000.menu/cooking/10221-varene-iz-ship...</td>\n",
       "      <td>Варенье из шиповника</td>\n",
       "      <td>180</td>\n",
       "      <td>citric acid</td>\n",
       "      <td>по</td>\n",
       "      <td>to taste</td>\n",
       "      <td>russian</td>\n",
       "    </tr>\n",
       "    <tr>\n",
       "      <th>775</th>\n",
       "      <td>https://1000.menu/cooking/9773-varene-iz-irgi</td>\n",
       "      <td>Варенье из ирги на зиму пятиминутка</td>\n",
       "      <td>360</td>\n",
       "      <td>amelanchier</td>\n",
       "      <td>900</td>\n",
       "      <td>gram</td>\n",
       "      <td>russian</td>\n",
       "    </tr>\n",
       "    <tr>\n",
       "      <th>775</th>\n",
       "      <td>https://1000.menu/cooking/9773-varene-iz-irgi</td>\n",
       "      <td>Варенье из ирги на зиму пятиминутка</td>\n",
       "      <td>360</td>\n",
       "      <td>sugar</td>\n",
       "      <td>450</td>\n",
       "      <td>gram</td>\n",
       "      <td>russian</td>\n",
       "    </tr>\n",
       "    <tr>\n",
       "      <th>775</th>\n",
       "      <td>https://1000.menu/cooking/9773-varene-iz-irgi</td>\n",
       "      <td>Варенье из ирги на зиму пятиминутка</td>\n",
       "      <td>360</td>\n",
       "      <td>citric acid</td>\n",
       "      <td>2</td>\n",
       "      <td>gram</td>\n",
       "      <td>russian</td>\n",
       "    </tr>\n",
       "  </tbody>\n",
       "</table>\n",
       "<p>7428 rows × 7 columns</p>\n",
       "</div>"
      ],
      "text/plain": [
       "                                                   url  \\\n",
       "0    https://1000.menu/cooking/43048-domashnii-klas...   \n",
       "0    https://1000.menu/cooking/43048-domashnii-klas...   \n",
       "0    https://1000.menu/cooking/43048-domashnii-klas...   \n",
       "0    https://1000.menu/cooking/43048-domashnii-klas...   \n",
       "0    https://1000.menu/cooking/43048-domashnii-klas...   \n",
       "..                                                 ...   \n",
       "774  https://1000.menu/cooking/10221-varene-iz-ship...   \n",
       "774  https://1000.menu/cooking/10221-varene-iz-ship...   \n",
       "775      https://1000.menu/cooking/9773-varene-iz-irgi   \n",
       "775      https://1000.menu/cooking/9773-varene-iz-irgi   \n",
       "775      https://1000.menu/cooking/9773-varene-iz-irgi   \n",
       "\n",
       "                                   title  total_time_minutes  \\\n",
       "0         Домашний классический тирамису                 200   \n",
       "0         Домашний классический тирамису                 200   \n",
       "0         Домашний классический тирамису                 200   \n",
       "0         Домашний классический тирамису                 200   \n",
       "0         Домашний классический тирамису                 200   \n",
       "..                                   ...                 ...   \n",
       "774                 Варенье из шиповника                 180   \n",
       "774                 Варенье из шиповника                 180   \n",
       "775  Варенье из ирги на зиму пятиминутка                 360   \n",
       "775  Варенье из ирги на зиму пятиминутка                 360   \n",
       "775  Варенье из ирги на зиму пятиминутка                 360   \n",
       "\n",
       "       ingredient_name ingredient_qty ingredient_unit   source  \n",
       "0    savoyardi cookies            200            gram  russian  \n",
       "0               coffee              1             cup  russian  \n",
       "0                cocoa             70            gram  russian  \n",
       "0              brandy               1      tablespoon  russian  \n",
       "0           mascarpone            250            gram  russian  \n",
       "..                 ...            ...             ...      ...  \n",
       "774              sugar              6             cup  russian  \n",
       "774        citric acid             по        to taste  russian  \n",
       "775        amelanchier            900            gram  russian  \n",
       "775              sugar            450            gram  russian  \n",
       "775        citric acid              2            gram  russian  \n",
       "\n",
       "[7428 rows x 7 columns]"
      ]
     },
     "execution_count": 549,
     "metadata": {},
     "output_type": "execute_result"
    }
   ],
   "source": [
    "russian_exploded"
   ]
  },
  {
   "cell_type": "markdown",
   "metadata": {},
   "source": [
    "Соединяем"
   ]
  },
  {
   "cell_type": "code",
   "execution_count": 550,
   "metadata": {},
   "outputs": [],
   "source": [
    "all_and_russian = pd.concat([df, russian_exploded], ignore_index=True)"
   ]
  },
  {
   "cell_type": "code",
   "execution_count": 551,
   "metadata": {},
   "outputs": [
    {
     "data": {
      "text/html": [
       "<div>\n",
       "<style scoped>\n",
       "    .dataframe tbody tr th:only-of-type {\n",
       "        vertical-align: middle;\n",
       "    }\n",
       "\n",
       "    .dataframe tbody tr th {\n",
       "        vertical-align: top;\n",
       "    }\n",
       "\n",
       "    .dataframe thead th {\n",
       "        text-align: right;\n",
       "    }\n",
       "</style>\n",
       "<table border=\"1\" class=\"dataframe\">\n",
       "  <thead>\n",
       "    <tr style=\"text-align: right;\">\n",
       "      <th></th>\n",
       "      <th>url</th>\n",
       "      <th>title</th>\n",
       "      <th>total_time_minutes</th>\n",
       "      <th>ingredient_name</th>\n",
       "      <th>ingredient_qty</th>\n",
       "      <th>ingredient_unit</th>\n",
       "      <th>source</th>\n",
       "    </tr>\n",
       "  </thead>\n",
       "  <tbody>\n",
       "    <tr>\n",
       "      <th>0</th>\n",
       "      <td>http://allrecipes.com/Recipe/6664/</td>\n",
       "      <td>Basil, Roasted Peppers and Monterey Jack Cornb...</td>\n",
       "      <td>100</td>\n",
       "      <td>butter</td>\n",
       "      <td>1/2</td>\n",
       "      <td>cup</td>\n",
       "      <td>allrecipes</td>\n",
       "    </tr>\n",
       "    <tr>\n",
       "      <th>1</th>\n",
       "      <td>http://allrecipes.com/Recipe/6664/</td>\n",
       "      <td>Basil, Roasted Peppers and Monterey Jack Cornb...</td>\n",
       "      <td>100</td>\n",
       "      <td>onion</td>\n",
       "      <td>1</td>\n",
       "      <td>cup</td>\n",
       "      <td>allrecipes</td>\n",
       "    </tr>\n",
       "    <tr>\n",
       "      <th>2</th>\n",
       "      <td>http://allrecipes.com/Recipe/6664/</td>\n",
       "      <td>Basil, Roasted Peppers and Monterey Jack Cornb...</td>\n",
       "      <td>100</td>\n",
       "      <td>cornmeal</td>\n",
       "      <td>1 3/4</td>\n",
       "      <td>cup</td>\n",
       "      <td>allrecipes</td>\n",
       "    </tr>\n",
       "    <tr>\n",
       "      <th>3</th>\n",
       "      <td>http://allrecipes.com/Recipe/6664/</td>\n",
       "      <td>Basil, Roasted Peppers and Monterey Jack Cornb...</td>\n",
       "      <td>100</td>\n",
       "      <td>flour</td>\n",
       "      <td>1 1/4</td>\n",
       "      <td>cup</td>\n",
       "      <td>allrecipes</td>\n",
       "    </tr>\n",
       "    <tr>\n",
       "      <th>4</th>\n",
       "      <td>http://allrecipes.com/Recipe/6664/</td>\n",
       "      <td>Basil, Roasted Peppers and Monterey Jack Cornb...</td>\n",
       "      <td>100</td>\n",
       "      <td>sugar</td>\n",
       "      <td>1/4</td>\n",
       "      <td>cup</td>\n",
       "      <td>allrecipes</td>\n",
       "    </tr>\n",
       "    <tr>\n",
       "      <th>...</th>\n",
       "      <td>...</td>\n",
       "      <td>...</td>\n",
       "      <td>...</td>\n",
       "      <td>...</td>\n",
       "      <td>...</td>\n",
       "      <td>...</td>\n",
       "      <td>...</td>\n",
       "    </tr>\n",
       "    <tr>\n",
       "      <th>843959</th>\n",
       "      <td>https://1000.menu/cooking/10221-varene-iz-ship...</td>\n",
       "      <td>Варенье из шиповника</td>\n",
       "      <td>180</td>\n",
       "      <td>sugar</td>\n",
       "      <td>6</td>\n",
       "      <td>cup</td>\n",
       "      <td>russian</td>\n",
       "    </tr>\n",
       "    <tr>\n",
       "      <th>843960</th>\n",
       "      <td>https://1000.menu/cooking/10221-varene-iz-ship...</td>\n",
       "      <td>Варенье из шиповника</td>\n",
       "      <td>180</td>\n",
       "      <td>citric acid</td>\n",
       "      <td>по</td>\n",
       "      <td>to taste</td>\n",
       "      <td>russian</td>\n",
       "    </tr>\n",
       "    <tr>\n",
       "      <th>843961</th>\n",
       "      <td>https://1000.menu/cooking/9773-varene-iz-irgi</td>\n",
       "      <td>Варенье из ирги на зиму пятиминутка</td>\n",
       "      <td>360</td>\n",
       "      <td>amelanchier</td>\n",
       "      <td>900</td>\n",
       "      <td>gram</td>\n",
       "      <td>russian</td>\n",
       "    </tr>\n",
       "    <tr>\n",
       "      <th>843962</th>\n",
       "      <td>https://1000.menu/cooking/9773-varene-iz-irgi</td>\n",
       "      <td>Варенье из ирги на зиму пятиминутка</td>\n",
       "      <td>360</td>\n",
       "      <td>sugar</td>\n",
       "      <td>450</td>\n",
       "      <td>gram</td>\n",
       "      <td>russian</td>\n",
       "    </tr>\n",
       "    <tr>\n",
       "      <th>843963</th>\n",
       "      <td>https://1000.menu/cooking/9773-varene-iz-irgi</td>\n",
       "      <td>Варенье из ирги на зиму пятиминутка</td>\n",
       "      <td>360</td>\n",
       "      <td>citric acid</td>\n",
       "      <td>2</td>\n",
       "      <td>gram</td>\n",
       "      <td>russian</td>\n",
       "    </tr>\n",
       "  </tbody>\n",
       "</table>\n",
       "<p>843964 rows × 7 columns</p>\n",
       "</div>"
      ],
      "text/plain": [
       "                                                      url  \\\n",
       "0                      http://allrecipes.com/Recipe/6664/   \n",
       "1                      http://allrecipes.com/Recipe/6664/   \n",
       "2                      http://allrecipes.com/Recipe/6664/   \n",
       "3                      http://allrecipes.com/Recipe/6664/   \n",
       "4                      http://allrecipes.com/Recipe/6664/   \n",
       "...                                                   ...   \n",
       "843959  https://1000.menu/cooking/10221-varene-iz-ship...   \n",
       "843960  https://1000.menu/cooking/10221-varene-iz-ship...   \n",
       "843961      https://1000.menu/cooking/9773-varene-iz-irgi   \n",
       "843962      https://1000.menu/cooking/9773-varene-iz-irgi   \n",
       "843963      https://1000.menu/cooking/9773-varene-iz-irgi   \n",
       "\n",
       "                                                    title total_time_minutes  \\\n",
       "0       Basil, Roasted Peppers and Monterey Jack Cornb...                100   \n",
       "1       Basil, Roasted Peppers and Monterey Jack Cornb...                100   \n",
       "2       Basil, Roasted Peppers and Monterey Jack Cornb...                100   \n",
       "3       Basil, Roasted Peppers and Monterey Jack Cornb...                100   \n",
       "4       Basil, Roasted Peppers and Monterey Jack Cornb...                100   \n",
       "...                                                   ...                ...   \n",
       "843959                               Варенье из шиповника                180   \n",
       "843960                               Варенье из шиповника                180   \n",
       "843961                Варенье из ирги на зиму пятиминутка                360   \n",
       "843962                Варенье из ирги на зиму пятиминутка                360   \n",
       "843963                Варенье из ирги на зиму пятиминутка                360   \n",
       "\n",
       "       ingredient_name ingredient_qty ingredient_unit      source  \n",
       "0               butter            1/2             cup  allrecipes  \n",
       "1                onion              1             cup  allrecipes  \n",
       "2             cornmeal          1 3/4             cup  allrecipes  \n",
       "3                flour          1 1/4             cup  allrecipes  \n",
       "4                sugar            1/4             cup  allrecipes  \n",
       "...                ...            ...             ...         ...  \n",
       "843959           sugar              6             cup     russian  \n",
       "843960     citric acid             по        to taste     russian  \n",
       "843961     amelanchier            900            gram     russian  \n",
       "843962           sugar            450            gram     russian  \n",
       "843963     citric acid              2            gram     russian  \n",
       "\n",
       "[843964 rows x 7 columns]"
      ]
     },
     "execution_count": 551,
     "metadata": {},
     "output_type": "execute_result"
    }
   ],
   "source": [
    "all_and_russian"
   ]
  },
  {
   "cell_type": "markdown",
   "metadata": {},
   "source": [
    "### 3. Собираем дополнительные данные с recipetineats.com"
   ]
  },
  {
   "cell_type": "code",
   "execution_count": 209,
   "metadata": {},
   "outputs": [],
   "source": [
    "from bs4 import BeautifulSoup\n",
    "import requests"
   ]
  },
  {
   "cell_type": "markdown",
   "metadata": {},
   "source": [
    "Собираем ссылки и названия"
   ]
  },
  {
   "cell_type": "code",
   "execution_count": 216,
   "metadata": {},
   "outputs": [],
   "source": [
    "site = 'https://www.recipetineats.com/category/main-dishes/?fwp_paged='\n",
    "headers = {\"User-Agent\": \"Mozilla/5.0 (Windows NT 10.0; Win64; x64) AppleWebKit/537.36 (KHTML, like Gecko) Chrome/91.0.4472.124 Safari/537.36\"}\n",
    "links = []\n",
    "names = []\n",
    "for i in range(16):\n",
    "    response = requests.post(site+str(i+1), headers=headers)\n",
    "    if response.status_code == 200:\n",
    "        soup = BeautifulSoup(response.text, 'html.parser')\n",
    "        for recipe in soup.find_all(class_='entry-title-link'):\n",
    "            links.append(recipe.get('href'))\n",
    "            names.append(recipe.text.strip())\n",
    "    "
   ]
  },
  {
   "cell_type": "code",
   "execution_count": 217,
   "metadata": {},
   "outputs": [],
   "source": [
    "recipetineats = pd.DataFrame({\n",
    "    'link':links,\n",
    "    'name':names\n",
    "})"
   ]
  },
  {
   "cell_type": "code",
   "execution_count": 218,
   "metadata": {},
   "outputs": [
    {
     "data": {
      "text/html": [
       "<div>\n",
       "<style scoped>\n",
       "    .dataframe tbody tr th:only-of-type {\n",
       "        vertical-align: middle;\n",
       "    }\n",
       "\n",
       "    .dataframe tbody tr th {\n",
       "        vertical-align: top;\n",
       "    }\n",
       "\n",
       "    .dataframe thead th {\n",
       "        text-align: right;\n",
       "    }\n",
       "</style>\n",
       "<table border=\"1\" class=\"dataframe\">\n",
       "  <thead>\n",
       "    <tr style=\"text-align: right;\">\n",
       "      <th></th>\n",
       "      <th>link</th>\n",
       "      <th>name</th>\n",
       "    </tr>\n",
       "  </thead>\n",
       "  <tbody>\n",
       "    <tr>\n",
       "      <th>0</th>\n",
       "      <td>https://www.recipetineats.com/fall-apart-massa...</td>\n",
       "      <td>5 Minute Fall-apart Massaman Lamb Shoulder</td>\n",
       "    </tr>\n",
       "    <tr>\n",
       "      <th>1</th>\n",
       "      <td>https://www.recipetineats.com/sausage-ragu/</td>\n",
       "      <td>Sausage Ragu with Pappardelle Pasta</td>\n",
       "    </tr>\n",
       "    <tr>\n",
       "      <th>2</th>\n",
       "      <td>https://www.recipetineats.com/qeema-indian-cur...</td>\n",
       "      <td>Qeema – Easy Indian Curried Beef Mince</td>\n",
       "    </tr>\n",
       "    <tr>\n",
       "      <th>3</th>\n",
       "      <td>https://www.recipetineats.com/moroccan-baked-e...</td>\n",
       "      <td>Easy Moroccan Stuffed Eggplant (beef or lamb)</td>\n",
       "    </tr>\n",
       "    <tr>\n",
       "      <th>4</th>\n",
       "      <td>https://www.recipetineats.com/moroccan-lamb-me...</td>\n",
       "      <td>Moroccan Lamb Meatballs</td>\n",
       "    </tr>\n",
       "    <tr>\n",
       "      <th>...</th>\n",
       "      <td>...</td>\n",
       "      <td>...</td>\n",
       "    </tr>\n",
       "    <tr>\n",
       "      <th>315</th>\n",
       "      <td>https://www.recipetineats.com/slow-cooker-cris...</td>\n",
       "      <td>Slow Cooker Crispy Chinese Shredded Chicken</td>\n",
       "    </tr>\n",
       "    <tr>\n",
       "      <th>316</th>\n",
       "      <td>https://www.recipetineats.com/fish-piccata-cri...</td>\n",
       "      <td>Fish Piccata With Crispy Smashed Potatoes (15 ...</td>\n",
       "    </tr>\n",
       "    <tr>\n",
       "      <th>317</th>\n",
       "      <td>https://www.recipetineats.com/chicken-green-ve...</td>\n",
       "      <td>Chicken &amp; Vegetable Rice (One Pot)</td>\n",
       "    </tr>\n",
       "    <tr>\n",
       "      <th>318</th>\n",
       "      <td>https://www.recipetineats.com/syrian-chicken-g...</td>\n",
       "      <td>Syrian Chicken</td>\n",
       "    </tr>\n",
       "    <tr>\n",
       "      <th>319</th>\n",
       "      <td>https://www.recipetineats.com/slow-cooker-dulc...</td>\n",
       "      <td>Sweetened Condensed Milk Caramel (Slow Cooker)</td>\n",
       "    </tr>\n",
       "  </tbody>\n",
       "</table>\n",
       "<p>320 rows × 2 columns</p>\n",
       "</div>"
      ],
      "text/plain": [
       "                                                  link  \\\n",
       "0    https://www.recipetineats.com/fall-apart-massa...   \n",
       "1          https://www.recipetineats.com/sausage-ragu/   \n",
       "2    https://www.recipetineats.com/qeema-indian-cur...   \n",
       "3    https://www.recipetineats.com/moroccan-baked-e...   \n",
       "4    https://www.recipetineats.com/moroccan-lamb-me...   \n",
       "..                                                 ...   \n",
       "315  https://www.recipetineats.com/slow-cooker-cris...   \n",
       "316  https://www.recipetineats.com/fish-piccata-cri...   \n",
       "317  https://www.recipetineats.com/chicken-green-ve...   \n",
       "318  https://www.recipetineats.com/syrian-chicken-g...   \n",
       "319  https://www.recipetineats.com/slow-cooker-dulc...   \n",
       "\n",
       "                                                  name  \n",
       "0           5 Minute Fall-apart Massaman Lamb Shoulder  \n",
       "1                  Sausage Ragu with Pappardelle Pasta  \n",
       "2               Qeema – Easy Indian Curried Beef Mince  \n",
       "3        Easy Moroccan Stuffed Eggplant (beef or lamb)  \n",
       "4                              Moroccan Lamb Meatballs  \n",
       "..                                                 ...  \n",
       "315        Slow Cooker Crispy Chinese Shredded Chicken  \n",
       "316  Fish Piccata With Crispy Smashed Potatoes (15 ...  \n",
       "317                 Chicken & Vegetable Rice (One Pot)  \n",
       "318                                     Syrian Chicken  \n",
       "319     Sweetened Condensed Milk Caramel (Slow Cooker)  \n",
       "\n",
       "[320 rows x 2 columns]"
      ]
     },
     "execution_count": 218,
     "metadata": {},
     "output_type": "execute_result"
    }
   ],
   "source": [
    "recipetineats"
   ]
  },
  {
   "cell_type": "markdown",
   "metadata": {},
   "source": [
    "Для каждой ссылки собираем время приготовления в минутах и ингридиенты"
   ]
  },
  {
   "cell_type": "code",
   "execution_count": 271,
   "metadata": {},
   "outputs": [],
   "source": [
    "times = []\n",
    "mega_ingredients = []\n",
    "mega_links = []\n",
    "for link in recipetineats['link']:\n",
    "    response = requests.post(link, headers=headers)\n",
    "    if response.status_code == 200:\n",
    "        complete_ingredients = []\n",
    "        soup = BeautifulSoup(response.text, 'html.parser')\n",
    "        hours = soup.find(class_ = 'wprm-recipe-cook_time-hours')\n",
    "        if hours:\n",
    "            sr_tag = hours.find(class_='sr-only')\n",
    "            sr_tag.extract()\n",
    "            hours = hours.text.strip()\n",
    "        else: hours = 0\n",
    "        minutes = soup.find(class_ = 'wprm-recipe-cook_time-minutes')\n",
    "        if minutes:\n",
    "            sr_tag = minutes.find(class_='sr-only')\n",
    "            sr_tag.extract()\n",
    "            minutes = minutes.text.strip()\n",
    "        else: minutes = 0\n",
    "        time = int(hours)*60+int(minutes)\n",
    "        times.append(time)\n",
    "        ingredients =soup.find_all(class_= 'wprm-recipe-ingredient')\n",
    "        for ingredient in ingredients:\n",
    "            try: \n",
    "                quantity = ingredient.find(class_ = 'wprm-recipe-ingredient-amount').text.strip()\n",
    "            except: quantity = 0\n",
    "            try:\n",
    "                name = ingredient.find(class_ = 'wprm-recipe-ingredient-name').text.strip()\n",
    "            except: name = 0\n",
    "            try:\n",
    "                unit = ingredient.find(class_ = 'wprm-recipe-ingredient-unit').text.strip()\n",
    "                if unit=='':\n",
    "                    unit = 0\n",
    "            except: unit = 0\n",
    "            text_ingredient = str(quantity) + \"-----\" + str(unit) + \"-----\" + str(name)\n",
    "            complete_ingredients.append(text_ingredient)\n",
    "        mega_ingredients.append(complete_ingredients)\n",
    "        mega_links.append(link)"
   ]
  },
  {
   "cell_type": "code",
   "execution_count": 510,
   "metadata": {},
   "outputs": [],
   "source": [
    "recipetineats_ingredients = pd.DataFrame({\n",
    "    'link':mega_links,\n",
    "    'total_time_minutes':times,\n",
    "    'mega_ingredients':mega_ingredients\n",
    "})"
   ]
  },
  {
   "cell_type": "code",
   "execution_count": 511,
   "metadata": {},
   "outputs": [
    {
     "data": {
      "text/html": [
       "<div>\n",
       "<style scoped>\n",
       "    .dataframe tbody tr th:only-of-type {\n",
       "        vertical-align: middle;\n",
       "    }\n",
       "\n",
       "    .dataframe tbody tr th {\n",
       "        vertical-align: top;\n",
       "    }\n",
       "\n",
       "    .dataframe thead th {\n",
       "        text-align: right;\n",
       "    }\n",
       "</style>\n",
       "<table border=\"1\" class=\"dataframe\">\n",
       "  <thead>\n",
       "    <tr style=\"text-align: right;\">\n",
       "      <th></th>\n",
       "      <th>link</th>\n",
       "      <th>total_time_minutes</th>\n",
       "      <th>mega_ingredients</th>\n",
       "    </tr>\n",
       "  </thead>\n",
       "  <tbody>\n",
       "    <tr>\n",
       "      <th>0</th>\n",
       "      <td>https://www.recipetineats.com/fall-apart-massa...</td>\n",
       "      <td>270</td>\n",
       "      <td>[2-2.25kg/ 4 – 4.5 lb-----0-----lamb shoulder,...</td>\n",
       "    </tr>\n",
       "    <tr>\n",
       "      <th>1</th>\n",
       "      <td>https://www.recipetineats.com/sausage-ragu/</td>\n",
       "      <td>135</td>\n",
       "      <td>[2-----tbsp-----olive oil, 1-----0-----small o...</td>\n",
       "    </tr>\n",
       "    <tr>\n",
       "      <th>2</th>\n",
       "      <td>https://www.recipetineats.com/qeema-indian-cur...</td>\n",
       "      <td>15</td>\n",
       "      <td>[3-----tbsp-----vegetable or canola oil, 4----...</td>\n",
       "    </tr>\n",
       "    <tr>\n",
       "      <th>3</th>\n",
       "      <td>https://www.recipetineats.com/moroccan-baked-e...</td>\n",
       "      <td>45</td>\n",
       "      <td>[2-----x 250g/8oz-----eggplants, 3/4-----tsp--...</td>\n",
       "    </tr>\n",
       "    <tr>\n",
       "      <th>4</th>\n",
       "      <td>https://www.recipetineats.com/moroccan-lamb-me...</td>\n",
       "      <td>10</td>\n",
       "      <td>[1 1/2-----tbsp-----olive oil, 500 g / 1 lb---...</td>\n",
       "    </tr>\n",
       "    <tr>\n",
       "      <th>...</th>\n",
       "      <td>...</td>\n",
       "      <td>...</td>\n",
       "      <td>...</td>\n",
       "    </tr>\n",
       "    <tr>\n",
       "      <th>315</th>\n",
       "      <td>https://www.recipetineats.com/slow-cooker-cris...</td>\n",
       "      <td>480</td>\n",
       "      <td>[3 - 4 lb / 1.5 - 2 kg-----0-----whole chicken...</td>\n",
       "    </tr>\n",
       "    <tr>\n",
       "      <th>316</th>\n",
       "      <td>https://www.recipetineats.com/fish-piccata-cri...</td>\n",
       "      <td>10</td>\n",
       "      <td>[2-----pieces-----firm white fish fillets, 6--...</td>\n",
       "    </tr>\n",
       "    <tr>\n",
       "      <th>317</th>\n",
       "      <td>https://www.recipetineats.com/chicken-green-ve...</td>\n",
       "      <td>15</td>\n",
       "      <td>[300g (10oz)-----0-----chicken breast, 2-----t...</td>\n",
       "    </tr>\n",
       "    <tr>\n",
       "      <th>318</th>\n",
       "      <td>https://www.recipetineats.com/syrian-chicken-g...</td>\n",
       "      <td>30</td>\n",
       "      <td>[2-----tbsp-----olive oil, 2 lb / 1 kg-----0--...</td>\n",
       "    </tr>\n",
       "    <tr>\n",
       "      <th>319</th>\n",
       "      <td>https://www.recipetineats.com/slow-cooker-dulc...</td>\n",
       "      <td>480</td>\n",
       "      <td>[2-----cans-----sweetened condensed milk]</td>\n",
       "    </tr>\n",
       "  </tbody>\n",
       "</table>\n",
       "<p>320 rows × 3 columns</p>\n",
       "</div>"
      ],
      "text/plain": [
       "                                                  link  total_time_minutes  \\\n",
       "0    https://www.recipetineats.com/fall-apart-massa...                 270   \n",
       "1          https://www.recipetineats.com/sausage-ragu/                 135   \n",
       "2    https://www.recipetineats.com/qeema-indian-cur...                  15   \n",
       "3    https://www.recipetineats.com/moroccan-baked-e...                  45   \n",
       "4    https://www.recipetineats.com/moroccan-lamb-me...                  10   \n",
       "..                                                 ...                 ...   \n",
       "315  https://www.recipetineats.com/slow-cooker-cris...                 480   \n",
       "316  https://www.recipetineats.com/fish-piccata-cri...                  10   \n",
       "317  https://www.recipetineats.com/chicken-green-ve...                  15   \n",
       "318  https://www.recipetineats.com/syrian-chicken-g...                  30   \n",
       "319  https://www.recipetineats.com/slow-cooker-dulc...                 480   \n",
       "\n",
       "                                      mega_ingredients  \n",
       "0    [2-2.25kg/ 4 – 4.5 lb-----0-----lamb shoulder,...  \n",
       "1    [2-----tbsp-----olive oil, 1-----0-----small o...  \n",
       "2    [3-----tbsp-----vegetable or canola oil, 4----...  \n",
       "3    [2-----x 250g/8oz-----eggplants, 3/4-----tsp--...  \n",
       "4    [1 1/2-----tbsp-----olive oil, 500 g / 1 lb---...  \n",
       "..                                                 ...  \n",
       "315  [3 - 4 lb / 1.5 - 2 kg-----0-----whole chicken...  \n",
       "316  [2-----pieces-----firm white fish fillets, 6--...  \n",
       "317  [300g (10oz)-----0-----chicken breast, 2-----t...  \n",
       "318  [2-----tbsp-----olive oil, 2 lb / 1 kg-----0--...  \n",
       "319          [2-----cans-----sweetened condensed milk]  \n",
       "\n",
       "[320 rows x 3 columns]"
      ]
     },
     "execution_count": 511,
     "metadata": {},
     "output_type": "execute_result"
    }
   ],
   "source": [
    "recipetineats_ingredients"
   ]
  },
  {
   "cell_type": "markdown",
   "metadata": {},
   "source": [
    "Соединяем с названиями"
   ]
  },
  {
   "cell_type": "code",
   "execution_count": 512,
   "metadata": {},
   "outputs": [],
   "source": [
    "recipetineats_exploded = pd.merge(recipetineats, recipetineats_ingredients, on='link', how='left')"
   ]
  },
  {
   "cell_type": "markdown",
   "metadata": {},
   "source": [
    "Чистим"
   ]
  },
  {
   "cell_type": "code",
   "execution_count": 513,
   "metadata": {},
   "outputs": [
    {
     "name": "stderr",
     "output_type": "stream",
     "text": [
      "<>:4: SyntaxWarning: invalid escape sequence '\\/'\n",
      "<>:4: SyntaxWarning: invalid escape sequence '\\/'\n",
      "C:\\Users\\eliza\\AppData\\Local\\Temp\\ipykernel_6308\\4099517226.py:4: SyntaxWarning: invalid escape sequence '\\/'\n",
      "  recipetineats_exploded.ingredient_qty_bad.replace('\\/ (.*)', '', regex=True, inplace=True)\n",
      "C:\\Users\\eliza\\AppData\\Local\\Temp\\ipykernel_6308\\4099517226.py:4: FutureWarning: A value is trying to be set on a copy of a DataFrame or Series through chained assignment using an inplace method.\n",
      "The behavior will change in pandas 3.0. This inplace method will never work because the intermediate object on which we are setting values always behaves as a copy.\n",
      "\n",
      "For example, when doing 'df[col].method(value, inplace=True)', try using 'df.method({col: value}, inplace=True)' or df[col] = df[col].method(value) instead, to perform the operation inplace on the original object.\n",
      "\n",
      "\n",
      "  recipetineats_exploded.ingredient_qty_bad.replace('\\/ (.*)', '', regex=True, inplace=True)\n"
     ]
    }
   ],
   "source": [
    "recipetineats_exploded = recipetineats_exploded.explode('mega_ingredients')\n",
    "recipetineats_exploded[['ingredient_qty_bad', 'ingredient_unit_bad', 'ingredient_name']] = recipetineats_exploded['mega_ingredients'].str.split(pat=\"-----\", expand=True)\n",
    "recipetineats_exploded.drop('mega_ingredients', axis=1, inplace=True)\n",
    "recipetineats_exploded.ingredient_qty_bad.replace('\\/ (.*)', '', regex=True, inplace=True)"
   ]
  },
  {
   "cell_type": "markdown",
   "metadata": {},
   "source": [
    "Чистим"
   ]
  },
  {
   "cell_type": "code",
   "execution_count": null,
   "metadata": {},
   "outputs": [],
   "source": [
    "recipetineats_exploded[['ingredient_qty', 'ingredient_unit_bad2']] = recipetineats_exploded['ingredient_qty_bad'].str.extract('([^a-zA-Z ]+)( ?[a-zA-Z]+)?', expand=True)\n",
    "recipetineats_exploded.drop('ingredient_qty_bad', axis=1, inplace=True)\n",
    "recipetineats_exploded.replace(np.nan, '', inplace=True)\n",
    "recipetineats_exploded.replace('0', '', inplace=True)\n",
    "recipetineats_exploded['ingredient_unit'] = recipetineats_exploded['ingredient_unit_bad'] + recipetineats_exploded['ingredient_unit_bad2']\n",
    "recipetineats_exploded.drop('ingredient_unit_bad', axis=1, inplace=True)\n",
    "recipetineats_exploded.drop('ingredient_unit_bad2', axis=1, inplace=True)\n",
    "recipetineats_exploded[\"ingredient_name\"] = recipetineats_exploded[\"ingredient_name\"].str.lower()"
   ]
  },
  {
   "cell_type": "markdown",
   "metadata": {},
   "source": [
    "Опять много уникальных ингридиентов. Чистим"
   ]
  },
  {
   "cell_type": "code",
   "execution_count": 516,
   "metadata": {},
   "outputs": [
    {
     "data": {
      "text/plain": [
       "1618"
      ]
     },
     "execution_count": 516,
     "metadata": {},
     "output_type": "execute_result"
    }
   ],
   "source": [
    "len(recipetineats_exploded['ingredient_name'].value_counts().index.tolist())"
   ]
  },
  {
   "cell_type": "code",
   "execution_count": 518,
   "metadata": {},
   "outputs": [],
   "source": [
    "for simple in simple_ingredients:\n",
    "    recipetineats_exploded.loc[recipetineats_exploded['ingredient_name'].str.contains(simple), 'ingredient_name'] = simple"
   ]
  },
  {
   "cell_type": "code",
   "execution_count": 519,
   "metadata": {},
   "outputs": [
    {
     "data": {
      "text/plain": [
       "854"
      ]
     },
     "execution_count": 519,
     "metadata": {},
     "output_type": "execute_result"
    }
   ],
   "source": [
    "len(recipetineats_exploded['ingredient_name'].value_counts().index.tolist())"
   ]
  },
  {
   "cell_type": "code",
   "execution_count": 520,
   "metadata": {},
   "outputs": [
    {
     "data": {
      "text/html": [
       "<div>\n",
       "<style scoped>\n",
       "    .dataframe tbody tr th:only-of-type {\n",
       "        vertical-align: middle;\n",
       "    }\n",
       "\n",
       "    .dataframe tbody tr th {\n",
       "        vertical-align: top;\n",
       "    }\n",
       "\n",
       "    .dataframe thead th {\n",
       "        text-align: right;\n",
       "    }\n",
       "</style>\n",
       "<table border=\"1\" class=\"dataframe\">\n",
       "  <thead>\n",
       "    <tr style=\"text-align: right;\">\n",
       "      <th></th>\n",
       "      <th>link</th>\n",
       "      <th>name</th>\n",
       "      <th>total_time_minutes</th>\n",
       "      <th>ingredient_name</th>\n",
       "      <th>ingredient_qty</th>\n",
       "      <th>ingredient_unit</th>\n",
       "    </tr>\n",
       "  </thead>\n",
       "  <tbody>\n",
       "    <tr>\n",
       "      <th>0</th>\n",
       "      <td>https://www.recipetineats.com/fall-apart-massa...</td>\n",
       "      <td>5 Minute Fall-apart Massaman Lamb Shoulder</td>\n",
       "      <td>270</td>\n",
       "      <td>lamb shoulder</td>\n",
       "      <td>2-2.25</td>\n",
       "      <td>kg</td>\n",
       "    </tr>\n",
       "    <tr>\n",
       "      <th>0</th>\n",
       "      <td>https://www.recipetineats.com/fall-apart-massa...</td>\n",
       "      <td>5 Minute Fall-apart Massaman Lamb Shoulder</td>\n",
       "      <td>270</td>\n",
       "      <td>curry</td>\n",
       "      <td>114</td>\n",
       "      <td>g</td>\n",
       "    </tr>\n",
       "    <tr>\n",
       "      <th>0</th>\n",
       "      <td>https://www.recipetineats.com/fall-apart-massa...</td>\n",
       "      <td>5 Minute Fall-apart Massaman Lamb Shoulder</td>\n",
       "      <td>270</td>\n",
       "      <td>milk</td>\n",
       "      <td>400</td>\n",
       "      <td>g</td>\n",
       "    </tr>\n",
       "    <tr>\n",
       "      <th>0</th>\n",
       "      <td>https://www.recipetineats.com/fall-apart-massa...</td>\n",
       "      <td>5 Minute Fall-apart Massaman Lamb Shoulder</td>\n",
       "      <td>270</td>\n",
       "      <td>chicken stock/broth</td>\n",
       "      <td>3</td>\n",
       "      <td>cups</td>\n",
       "    </tr>\n",
       "    <tr>\n",
       "      <th>0</th>\n",
       "      <td>https://www.recipetineats.com/fall-apart-massa...</td>\n",
       "      <td>5 Minute Fall-apart Massaman Lamb Shoulder</td>\n",
       "      <td>270</td>\n",
       "      <td>onion</td>\n",
       "      <td>1</td>\n",
       "      <td></td>\n",
       "    </tr>\n",
       "    <tr>\n",
       "      <th>...</th>\n",
       "      <td>...</td>\n",
       "      <td>...</td>\n",
       "      <td>...</td>\n",
       "      <td>...</td>\n",
       "      <td>...</td>\n",
       "      <td>...</td>\n",
       "    </tr>\n",
       "    <tr>\n",
       "      <th>318</th>\n",
       "      <td>https://www.recipetineats.com/syrian-chicken-g...</td>\n",
       "      <td>Syrian Chicken</td>\n",
       "      <td>30</td>\n",
       "      <td>thyme</td>\n",
       "      <td>3</td>\n",
       "      <td>sprigs of</td>\n",
       "    </tr>\n",
       "    <tr>\n",
       "      <th>318</th>\n",
       "      <td>https://www.recipetineats.com/syrian-chicken-g...</td>\n",
       "      <td>Syrian Chicken</td>\n",
       "      <td>30</td>\n",
       "      <td>dried currants or sultanas</td>\n",
       "      <td>1/4</td>\n",
       "      <td>cup</td>\n",
       "    </tr>\n",
       "    <tr>\n",
       "      <th>318</th>\n",
       "      <td>https://www.recipetineats.com/syrian-chicken-g...</td>\n",
       "      <td>Syrian Chicken</td>\n",
       "      <td>30</td>\n",
       "      <td>giant couscous</td>\n",
       "      <td>8</td>\n",
       "      <td>oz</td>\n",
       "    </tr>\n",
       "    <tr>\n",
       "      <th>318</th>\n",
       "      <td>https://www.recipetineats.com/syrian-chicken-g...</td>\n",
       "      <td>Syrian Chicken</td>\n",
       "      <td>30</td>\n",
       "      <td>yoghurt</td>\n",
       "      <td></td>\n",
       "      <td></td>\n",
       "    </tr>\n",
       "    <tr>\n",
       "      <th>319</th>\n",
       "      <td>https://www.recipetineats.com/slow-cooker-dulc...</td>\n",
       "      <td>Sweetened Condensed Milk Caramel (Slow Cooker)</td>\n",
       "      <td>480</td>\n",
       "      <td>milk</td>\n",
       "      <td>2</td>\n",
       "      <td>cans</td>\n",
       "    </tr>\n",
       "  </tbody>\n",
       "</table>\n",
       "<p>4719 rows × 6 columns</p>\n",
       "</div>"
      ],
      "text/plain": [
       "                                                  link  \\\n",
       "0    https://www.recipetineats.com/fall-apart-massa...   \n",
       "0    https://www.recipetineats.com/fall-apart-massa...   \n",
       "0    https://www.recipetineats.com/fall-apart-massa...   \n",
       "0    https://www.recipetineats.com/fall-apart-massa...   \n",
       "0    https://www.recipetineats.com/fall-apart-massa...   \n",
       "..                                                 ...   \n",
       "318  https://www.recipetineats.com/syrian-chicken-g...   \n",
       "318  https://www.recipetineats.com/syrian-chicken-g...   \n",
       "318  https://www.recipetineats.com/syrian-chicken-g...   \n",
       "318  https://www.recipetineats.com/syrian-chicken-g...   \n",
       "319  https://www.recipetineats.com/slow-cooker-dulc...   \n",
       "\n",
       "                                               name  total_time_minutes  \\\n",
       "0        5 Minute Fall-apart Massaman Lamb Shoulder                 270   \n",
       "0        5 Minute Fall-apart Massaman Lamb Shoulder                 270   \n",
       "0        5 Minute Fall-apart Massaman Lamb Shoulder                 270   \n",
       "0        5 Minute Fall-apart Massaman Lamb Shoulder                 270   \n",
       "0        5 Minute Fall-apart Massaman Lamb Shoulder                 270   \n",
       "..                                              ...                 ...   \n",
       "318                                  Syrian Chicken                  30   \n",
       "318                                  Syrian Chicken                  30   \n",
       "318                                  Syrian Chicken                  30   \n",
       "318                                  Syrian Chicken                  30   \n",
       "319  Sweetened Condensed Milk Caramel (Slow Cooker)                 480   \n",
       "\n",
       "                ingredient_name ingredient_qty ingredient_unit  \n",
       "0                 lamb shoulder         2-2.25              kg  \n",
       "0                         curry            114               g  \n",
       "0                          milk            400               g  \n",
       "0           chicken stock/broth              3            cups  \n",
       "0                         onion              1                  \n",
       "..                          ...            ...             ...  \n",
       "318                       thyme              3       sprigs of  \n",
       "318  dried currants or sultanas            1/4             cup  \n",
       "318              giant couscous              8              oz  \n",
       "318                     yoghurt                                 \n",
       "319                        milk              2            cans  \n",
       "\n",
       "[4719 rows x 6 columns]"
      ]
     },
     "execution_count": 520,
     "metadata": {},
     "output_type": "execute_result"
    }
   ],
   "source": [
    "recipetineats_exploded"
   ]
  },
  {
   "cell_type": "code",
   "execution_count": 521,
   "metadata": {},
   "outputs": [],
   "source": [
    "recipetineats_exploded['source'] = \"recipetineats\"\n",
    "recipetineats_exploded.rename(columns={'link': 'url', 'name': 'title'}, inplace=True)\n",
    "recipetineats_exploded = recipetineats_exploded.loc[:, ['url', 'title', 'total_time_minutes', 'ingredient_name', 'ingredient_qty', 'ingredient_unit', 'source']]"
   ]
  },
  {
   "cell_type": "markdown",
   "metadata": {},
   "source": [
    "Соединяем все вместе"
   ]
  },
  {
   "cell_type": "code",
   "execution_count": 522,
   "metadata": {},
   "outputs": [],
   "source": [
    "all_recipes = pd.concat([all_and_russian, recipetineats_exploded], ignore_index=True)"
   ]
  },
  {
   "cell_type": "code",
   "execution_count": 26,
   "metadata": {},
   "outputs": [],
   "source": [
    "all_recipes.loc[all_recipes['ingredient_name'] == 'vanilla sugar', 'ingredient_name'] = 'vanilla'\n",
    "all_recipes.loc[all_recipes['ingredient_name'] == 'ground cinnamon', 'ingredient_name'] = 'cinnamon'\n",
    "all_recipes.loc[all_recipes['ingredient_name'] == 'vanilla extract', 'ingredient_name'] = 'vanilla'\n",
    "all_recipes.loc[all_recipes['ingredient_name'] == 'black pepper powder', 'ingredient_name'] = 'black pepper'\n",
    "all_recipes.loc[all_recipes['ingredient_name'] == 'vanilla tincture', 'ingredient_name'] = 'vanilla'"
   ]
  },
  {
   "cell_type": "code",
   "execution_count": 27,
   "metadata": {},
   "outputs": [
    {
     "data": {
      "text/plain": [
       "31295"
      ]
     },
     "execution_count": 27,
     "metadata": {},
     "output_type": "execute_result"
    }
   ],
   "source": [
    "len(all_recipes['ingredient_name'].unique())"
   ]
  },
  {
   "cell_type": "code",
   "execution_count": 28,
   "metadata": {},
   "outputs": [],
   "source": [
    "all_recipes.to_csv('my_all_recipes.csv')"
   ]
  },
  {
   "cell_type": "code",
   "execution_count": 3,
   "metadata": {},
   "outputs": [],
   "source": [
    "all_recipes = pd.read_csv('my_all_recipes.csv')"
   ]
  }
 ],
 "metadata": {
  "kernelspec": {
   "display_name": "Python 3",
   "language": "python",
   "name": "python3"
  },
  "language_info": {
   "codemirror_mode": {
    "name": "ipython",
    "version": 3
   },
   "file_extension": ".py",
   "mimetype": "text/x-python",
   "name": "python",
   "nbconvert_exporter": "python",
   "pygments_lexer": "ipython3",
   "version": "3.12.6"
  }
 },
 "nbformat": 4,
 "nbformat_minor": 2
}
